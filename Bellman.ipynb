{
 "cells": [
  {
   "cell_type": "code",
   "execution_count": null,
   "id": "7e167887",
   "metadata": {},
   "outputs": [],
   "source": [
    "def belman(graph,source):\n",
    "    \n",
    "    distance=[float('inf') for _ in graph]\n",
    "    distance[source]=0\n",
    "    #print(distance)\n",
    "\n",
    "    for _ in range(len(graph) - 1):\n",
    "        for u in range(len(graph)):\n",
    "            for v in range(len(graph)):\n",
    "                if distance[u] + graph[u][v] < distance[v]:\n",
    "                    distance[v] = distance[u] + graph[u][v]\n",
    "                    #print(type(distance[v]))\n",
    "                    #print(\"distance[v] :\",distance[v])\n",
    "                    \n",
    "    print(\"Distances depuis la Source\")\n",
    "    for i in range(len(distance)):\n",
    "        \n",
    "        print(\"Sommet\",i,\"\\t-->\\t\",distance[i])\n",
    "\n",
    "            # Si on trouve une distance inférieure après le premier parcours, il y a\n",
    "            # un cycle négatif\n",
    "    #for u in range(len(graph)):\n",
    "        #for v in range(len(graph)):\n",
    "            #if distance[u] + graph[u][v] < distance[v]:\n",
    "                #print(\"Le graphe contient un cycle négatif\")\n",
    "                #return\n",
    "\n",
    "    return distance\n",
    "\n",
    "if __name__ == '__main__':\n",
    "\n",
    "    \n",
    "    graph=[\n",
    "      [0,1,float('inf'),5,float('inf')],\n",
    "      [float('inf'),0,3,float('inf'),float('inf')],\n",
    "      [float('inf'),float('inf'),0,0,2],\n",
    "      [float('inf'),1,float('inf'),0,1],\n",
    "      [float('inf'),float('inf'),float('inf'),float('inf'),0]\n",
    "     ]\n",
    "    distance = belman(graphe, 0)\n",
    "    "
   ]
  }
 ],
 "metadata": {
  "kernelspec": {
   "display_name": "Python 3 (ipykernel)",
   "language": "python",
   "name": "python3"
  },
  "language_info": {
   "codemirror_mode": {
    "name": "ipython",
    "version": 3
   },
   "file_extension": ".py",
   "mimetype": "text/x-python",
   "name": "python",
   "nbconvert_exporter": "python",
   "pygments_lexer": "ipython3",
   "version": "3.9.13"
  }
 },
 "nbformat": 4,
 "nbformat_minor": 5
}
